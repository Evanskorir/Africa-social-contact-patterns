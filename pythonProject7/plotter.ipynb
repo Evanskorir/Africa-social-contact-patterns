{
 "cells": [
  {
   "cell_type": "code",
   "execution_count": null,
   "metadata": {
    "collapsed": true
   },
   "outputs": [],
   "source": [
    "\n",
    "import seaborn as sns\n",
    "from matplotlib import pyplot as plt\n",
    "import numpy as np\n",
    "import pandas as pd\n",
    "\n",
    "\n",
    "class Plotter:\n",
    "    def __init__(self, clustering, data_transformer, country_names):\n",
    "        self.colors = ['r', 'g', 'b']\n",
    "        self.clust = clustering\n",
    "        self.data_tr = data_transformer\n",
    "\n",
    "    def plot_clustering(self):\n",
    "        color_vector = [self.colors[idx] for idx in self.clust.k_means_pred]\n",
    "        plt.scatter(self.clust.data[:, 0], self.clust.data[:, 1], c=color_vector)\n",
    "        plt.scatter(self.clust.centroids[:, 0], self.clust.centroids[:, 1],\n",
    "                    marker='*', c=self.colors[:self.clust.n_cl], s=180)\n",
    "        plt.scatter(self.clust.closest_points[:, 0], self.clust.closest_points[:, 1],\n",
    "                    c=self.colors[:self.clust.n_cl], s=120)\n",
    "\n",
    "        for c_idx, (idx, point) in enumerate(zip(self.clust.closest_point_idx, self.clust.closest_points)):\n",
    "            plt.annotate(self.data_tr.country_names[idx][:3], point)\n",
    "            print(\"The country nearest to the centroid\", c_idx, \":\", self.data_tr.country_names[idx])\n",
    "        plt.show()\n",
    "\n",
    "    def plot_heatmap_centroid(self, centroids):\n",
    "        for idx, centroid in enumerate(centroids):\n",
    "            new_contact_mtx = np.zeros((16, 16))\n",
    "            new_contact_mtx[self.data_tr.upper_tri_indexes] = centroid\n",
    "            new_2 = new_contact_mtx.T\n",
    "            new_2[self.data_tr.upper_tri_indexes] = centroid\n",
    "            plot_contact_matrix(contact_matrix=new_2)\n",
    "            plt.title(\"Centroid \" + str(idx))\n",
    "            plt.show()\n",
    "\n",
    "    def plot_heatmap_closest(self):\n",
    "        for idx, closest_idx in enumerate(self.clust.closest_point_idx):\n",
    "            new_contact_mtx = self.data_tr.data_all_dict[self.data_tr.country_names[closest_idx]][\"beta\"] * \\\n",
    "                self.data_tr.data_all_dict[self.data_tr.country_names[closest_idx]][\"contact_full\"]\n",
    "            plot_contact_matrix(contact_matrix=new_contact_mtx)\n",
    "            plt.title(self.data_tr.country_names[closest_idx])\n",
    "            plt.show()\n",
    "\n",
    "\n",
    "def plot_contact_matrix(contact_matrix):\n",
    "    param_list = range(0, 16, 1)\n",
    "    corr = pd.DataFrame(contact_matrix, columns=param_list, index=param_list)\n",
    "    cmap = sns.diverging_palette(220, 10, as_cmap=True)\n",
    "    ax = sns.heatmap(corr, cmap=cmap, center=0, square=True, linewidths=.5, cbar_kws={\"shrink\": .8})\n",
    "    ax.invert_yaxis()\n",
    "    plt.yticks(rotation=0)\n"
   ]
  }
 ],
 "metadata": {
  "kernelspec": {
   "display_name": "Python 3",
   "language": "python",
   "name": "python3"
  },
  "language_info": {
   "codemirror_mode": {
    "name": "ipython",
    "version": 2
   },
   "file_extension": ".py",
   "mimetype": "text/x-python",
   "name": "python",
   "nbconvert_exporter": "python",
   "pygments_lexer": "ipython2",
   "version": "2.7.6"
  }
 },
 "nbformat": 4,
 "nbformat_minor": 0
}