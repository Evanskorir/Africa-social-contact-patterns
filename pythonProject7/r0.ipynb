{
 "cells": [
  {
   "cell_type": "code",
   "execution_count": 3,
   "metadata": {
    "collapsed": true
   },
   "outputs": [
    {
     "name": "stderr",
     "output_type": "stream",
     "text": [
      "/var/folders/h_/y0h5hq093zv6lnjcmtpl99lc0000gn/T/ipykernel_2616/68451713.py:20: DeprecationWarning: `np.float` is a deprecated alias for the builtin `float`. To silence this warning, use `float` by itself. Doing this will not modify any behavior and is safe. If you specifically wanted the numpy scalar type, use `np.float64` here.\n",
      "Deprecated in NumPy 1.20; for more details and guidance: https://numpy.org/devdocs/release/1.20.0-notes.html#deprecations\n",
      "  def get_eig_val(self, contact_mtx: np.array) -> np.float:\n"
     ]
    }
   ],
   "source": [
    "import numpy as np\n",
    "\n",
    "\n",
    "class R0Generator:\n",
    "    states = [\"l1\", \"l2\", \"ip\", \"a1\", \"a2\", \"a3\", \"i1\", \"i2\", \"i3\"]\n",
    "\n",
    "    def __init__(self, param: dict, n_age: int = 16, n_l: int = 2, n_a: int = 3, n_i: int = 3):\n",
    "        self.parameters = param\n",
    "        self.n_age = n_age\n",
    "        self.n_l = n_l\n",
    "        self.n_a = n_a\n",
    "        self.n_i = n_i\n",
    "        self.n_states = len(self.states)\n",
    "        self.i = {self.states[index]: index for index in np.arange(0, self.n_states)}\n",
    "        self.s_mtx = self.n_age * self.n_states\n",
    "\n",
    "        self.v_inv = None\n",
    "        self.__get_v()\n",
    "\n",
    "    def get_eig_val(self, contact_mtx: np.array) -> np.float:\n",
    "        f = self.__get_f(contact_mtx)\n",
    "        return np.linalg.eig(np.dot(f, self.v_inv))[0][0]\n",
    "\n",
    "    def __get_v(self) -> np.array:\n",
    "        idx = self.__idx\n",
    "        v = np.zeros((self.n_age * self.n_states, self.n_age * self.n_states))\n",
    "        # L1 -> L2\n",
    "        v[idx(\"l1\"), idx(\"l1\")] = self.n_l * self.parameters[\"alpha_l\"]\n",
    "        v[idx(\"l2\"), idx(\"l1\")] = -self.n_l * self.parameters[\"alpha_l\"]\n",
    "        # L2 -> Ip\n",
    "        v[idx(\"l2\"), idx(\"l2\")] = self.n_l * self.parameters[\"alpha_l\"]\n",
    "        v[idx(\"ip\"), idx(\"l2\")] = -self.n_l * self.parameters[\"alpha_l\"]\n",
    "        # ip -> A1/I1\n",
    "        v[idx(\"ip\"), idx(\"ip\")] = self.parameters[\"alpha_p\"]\n",
    "        v[idx(\"a1\"), idx(\"ip\")] = -self.parameters[\"alpha_p\"] * self.parameters[\"p\"]\n",
    "        v[idx(\"i1\"), idx(\"ip\")] = -self.parameters[\"alpha_p\"] * (1 - self.parameters[\"p\"])\n",
    "        # A1 -> A2\n",
    "        v[idx(\"a1\"), idx(\"a1\")] = self.n_a * self.parameters[\"gamma_a\"]\n",
    "        v[idx(\"a2\"), idx(\"a1\")] = -self.n_a * self.parameters[\"gamma_a\"]\n",
    "        # A2 -> A3\n",
    "        v[idx(\"a2\"), idx(\"a2\")] = self.n_a * self.parameters[\"gamma_a\"]\n",
    "        v[idx(\"a3\"), idx(\"a2\")] = -self.n_a * self.parameters[\"gamma_a\"]\n",
    "        # A3 -> R\n",
    "        v[idx(\"a3\"), idx(\"a3\")] = self.n_a * self.parameters[\"gamma_a\"]\n",
    "        # I1 -> I2\n",
    "        v[idx(\"i1\"), idx(\"i1\")] = self.n_i * self.parameters[\"gamma_s\"]\n",
    "        v[idx(\"i2\"), idx(\"i1\")] = -self.n_i * self.parameters[\"gamma_s\"]\n",
    "        # I2 -> I3\n",
    "        v[idx(\"i2\"), idx(\"i2\")] = self.n_i * self.parameters[\"gamma_s\"]\n",
    "        v[idx(\"i3\"), idx(\"i2\")] = -self.n_i * self.parameters[\"gamma_s\"]\n",
    "        # I3 -> Ih/Ic (& R)\n",
    "        v[idx(\"i3\"), idx(\"i3\")] = self.n_i * self.parameters[\"gamma_s\"]\n",
    "\n",
    "        self.v_inv = np.linalg.inv(v)      # v: (144, 144)\n",
    "\n",
    "    def __get_f(self, contact_mtx: np.array) -> np.array:\n",
    "        i = self.i\n",
    "        s_mtx = self.s_mtx\n",
    "        n_states = self.n_states\n",
    "\n",
    "        f = np.zeros((self.n_age * n_states, self.n_age * n_states))\n",
    "        inf_a = self.parameters[\"inf_a\"] if \"inf_a\" in self.parameters.keys() else 1.0\n",
    "        inf_s = self.parameters[\"inf_s\"] if \"inf_s\" in self.parameters.keys() else 1.0\n",
    "        inf_p = self.parameters[\"inf_p\"] if \"inf_p\" in self.parameters.keys() else 1.0\n",
    "\n",
    "        susc_vec = self.parameters[\"susc\"].reshape((-1, 1))     # sus: (16, 1)\n",
    "        f[i[\"l1\"]:s_mtx:n_states, i[\"ip\"]:s_mtx:n_states] = inf_p * contact_mtx.T * susc_vec\n",
    "        f[i[\"l1\"]:s_mtx:n_states, i[\"a1\"]:s_mtx:n_states] = inf_a * contact_mtx.T * susc_vec\n",
    "        f[i[\"l1\"]:s_mtx:n_states, i[\"a2\"]:s_mtx:n_states] = inf_a * contact_mtx.T * susc_vec\n",
    "        f[i[\"l1\"]:s_mtx:n_states, i[\"a3\"]:s_mtx:n_states] = inf_a * contact_mtx.T * susc_vec\n",
    "        f[i[\"l1\"]:s_mtx:n_states, i[\"i1\"]:s_mtx:n_states] = inf_s * contact_mtx.T * susc_vec\n",
    "        f[i[\"l1\"]:s_mtx:n_states, i[\"i2\"]:s_mtx:n_states] = inf_s * contact_mtx.T * susc_vec\n",
    "        f[i[\"l1\"]:s_mtx:n_states, i[\"i3\"]:s_mtx:n_states] = inf_s * contact_mtx.T * susc_vec\n",
    "        return f           # f: (144, 144)\n",
    "\n",
    "    def __idx(self, state: str) -> int:\n",
    "        return np.arange(self.n_age * self.n_states) % self.n_states == self.i[state]\n"
   ]
  }
 ],
 "metadata": {
  "kernelspec": {
   "display_name": "Python 3",
   "language": "python",
   "name": "python3"
  },
  "language_info": {
   "codemirror_mode": {
    "name": "ipython",
    "version": 2
   },
   "file_extension": ".py",
   "mimetype": "text/x-python",
   "name": "python",
   "nbconvert_exporter": "python",
   "pygments_lexer": "ipython2",
   "version": "2.7.6"
  }
 },
 "nbformat": 4,
 "nbformat_minor": 0
}